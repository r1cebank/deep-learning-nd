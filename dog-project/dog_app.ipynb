{
 "cells": [
  {
   "cell_type": "markdown",
   "metadata": {},
   "source": [
    "# Artificial Intelligence Nanodegree\n",
    "\n",
    "## Convolutional Neural Networks\n",
    "\n",
    "## Project: Write an Algorithm for a Dog Identification App \n",
    "\n",
    "---\n",
    "\n",
    "In this notebook, some template code has already been provided for you, and you will need to implement additional functionality to successfully complete this project. You will not need to modify the included code beyond what is requested. Sections that begin with **'(IMPLEMENTATION)'** in the header indicate that the following block of code will require additional functionality which you must provide. Instructions will be provided for each section, and the specifics of the implementation are marked in the code block with a 'TODO' statement. Please be sure to read the instructions carefully! \n",
    "\n",
    "> **Note**: Once you have completed all of the code implementations, you need to finalize your work by exporting the iPython Notebook as an HTML document. Before exporting the notebook to html, all of the code cells need to have been run so that reviewers can see the final implementation and output. You can then export the notebook by using the menu above and navigating to  \\n\",\n",
    "    \"**File -> Download as -> HTML (.html)**. Include the finished document along with this notebook as your submission.\n",
    "\n",
    "In addition to implementing code, there will be questions that you must answer which relate to the project and your implementation. Each section where you will answer a question is preceded by a **'Question X'** header. Carefully read each question and provide thorough answers in the following text boxes that begin with **'Answer:'**. Your project submission will be evaluated based on your answers to each of the questions and the implementation you provide.\n",
    "\n",
    ">**Note:** Code and Markdown cells can be executed using the **Shift + Enter** keyboard shortcut.  Markdown cells can be edited by double-clicking the cell to enter edit mode.\n",
    "\n",
    "The rubric contains _optional_ \"Stand Out Suggestions\" for enhancing the project beyond the minimum requirements. If you decide to pursue the \"Stand Out Suggestions\", you should include the code in this IPython notebook.\n",
    "\n",
    "\n",
    "\n",
    "---\n",
    "### Why We're Here \n",
    "\n",
    "In this notebook, you will make the first steps towards developing an algorithm that could be used as part of a mobile or web app.  At the end of this project, your code will accept any user-supplied image as input.  If a dog is detected in the image, it will provide an estimate of the dog's breed.  If a human is detected, it will provide an estimate of the dog breed that is most resembling.  The image below displays potential sample output of your finished project (... but we expect that each student's algorithm will behave differently!). \n",
    "\n",
    "![Sample Dog Output](images/sample_dog_output.png)\n",
    "\n",
    "In this real-world setting, you will need to piece together a series of models to perform different tasks; for instance, the algorithm that detects humans in an image will be different from the CNN that infers dog breed.  There are many points of possible failure, and no perfect algorithm exists.  Your imperfect solution will nonetheless create a fun user experience!\n",
    "\n",
    "### The Road Ahead\n",
    "\n",
    "We break the notebook into separate steps.  Feel free to use the links below to navigate the notebook.\n",
    "\n",
    "* [Step 0](#step0): Import Datasets\n",
    "* [Step 1](#step1): Detect Humans\n",
    "* [Step 2](#step2): Detect Dogs\n",
    "* [Step 3](#step3): Create a CNN to Classify Dog Breeds (from Scratch)\n",
    "* [Step 4](#step4): Use a CNN to Classify Dog Breeds (using Transfer Learning)\n",
    "* [Step 5](#step5): Create a CNN to Classify Dog Breeds (using Transfer Learning)\n",
    "* [Step 6](#step6): Write your Algorithm\n",
    "* [Step 7](#step7): Test Your Algorithm\n",
    "\n",
    "---\n",
    "<a id='step0'></a>\n",
    "## Step 0: Import Datasets\n",
    "\n",
    "### Import Dog Dataset\n",
    "\n",
    "In the code cell below, we import a dataset of dog images.  We populate a few variables through the use of the `load_files` function from the scikit-learn library:\n",
    "- `train_files`, `valid_files`, `test_files` - numpy arrays containing file paths to images\n",
    "- `train_targets`, `valid_targets`, `test_targets` - numpy arrays containing onehot-encoded classification labels \n",
    "- `dog_names` - list of string-valued dog breed names for translating labels"
   ]
  },
  {
   "cell_type": "code",
   "execution_count": 41,
   "metadata": {
    "scrolled": true
   },
   "outputs": [
    {
     "ename": "ImportError",
     "evalue": "No module named 'theano'",
     "output_type": "error",
     "traceback": [
      "\u001b[0;31m---------------------------------------------------------------------------\u001b[0m",
      "\u001b[0;31mImportError\u001b[0m                               Traceback (most recent call last)",
      "\u001b[0;32m<ipython-input-41-cb701f1a9f40>\u001b[0m in \u001b[0;36m<module>\u001b[0;34m()\u001b[0m\n\u001b[1;32m      3\u001b[0m \u001b[0;32mimport\u001b[0m \u001b[0mnumpy\u001b[0m \u001b[0;32mas\u001b[0m \u001b[0mnp\u001b[0m\u001b[0;34m\u001b[0m\u001b[0m\n\u001b[1;32m      4\u001b[0m \u001b[0;32mfrom\u001b[0m \u001b[0mglob\u001b[0m \u001b[0;32mimport\u001b[0m \u001b[0mglob\u001b[0m\u001b[0;34m\u001b[0m\u001b[0m\n\u001b[0;32m----> 5\u001b[0;31m \u001b[0;32mimport\u001b[0m \u001b[0mtheano\u001b[0m\u001b[0;34m\u001b[0m\u001b[0m\n\u001b[0m\u001b[1;32m      6\u001b[0m \u001b[0mtheano\u001b[0m\u001b[0;34m.\u001b[0m\u001b[0mconfig\u001b[0m\u001b[0;34m.\u001b[0m\u001b[0mdevice\u001b[0m \u001b[0;34m=\u001b[0m \u001b[0;34m'gpu'\u001b[0m\u001b[0;34m\u001b[0m\u001b[0m\n\u001b[1;32m      7\u001b[0m \u001b[0mtheano\u001b[0m\u001b[0;34m.\u001b[0m\u001b[0mconfig\u001b[0m\u001b[0;34m.\u001b[0m\u001b[0mfloatX\u001b[0m \u001b[0;34m=\u001b[0m \u001b[0;34m'float32'\u001b[0m\u001b[0;34m\u001b[0m\u001b[0m\n",
      "\u001b[0;31mImportError\u001b[0m: No module named 'theano'"
     ]
    }
   ],
   "source": [
    "from sklearn.datasets import load_files       \n",
    "from keras.utils import np_utils\n",
    "import numpy as np\n",
    "from glob import glob\n",
    "import theano\n",
    "theano.config.device = 'gpu'\n",
    "theano.config.floatX = 'float32'\n",
    "\n",
    "# define function to load train, test, and validation datasets\n",
    "def load_dataset(path):\n",
    "    data = load_files(path)\n",
    "    dog_files = np.array(data['filenames'])\n",
    "    dog_targets = np_utils.to_categorical(np.array(data['target']), 133)\n",
    "    return dog_files, dog_targets\n",
    "\n",
    "# load train, test, and validation datasets\n",
    "train_files, train_targets = load_dataset('dogImages/train')\n",
    "valid_files, valid_targets = load_dataset('dogImages/valid')\n",
    "test_files, test_targets = load_dataset('dogImages/test')\n",
    "\n",
    "# load list of dog names\n",
    "dog_names = [item[20:-1] for item in sorted(glob(\"dogImages/train/*/\"))]\n",
    "\n",
    "# print statistics about the dataset\n",
    "print('There are %d total dog categories.' % len(dog_names))\n",
    "print('There are %s total dog images.\\n' % len(np.hstack([train_files, valid_files, test_files])))\n",
    "print('There are %d training dog images.' % len(train_files))\n",
    "print('There are %d validation dog images.' % len(valid_files))\n",
    "print('There are %d test dog images.'% len(test_files))"
   ]
  },
  {
   "cell_type": "markdown",
   "metadata": {},
   "source": [
    "### Import Human Dataset\n",
    "\n",
    "In the code cell below, we import a dataset of human images, where the file paths are stored in the numpy array `human_files`."
   ]
  },
  {
   "cell_type": "code",
   "execution_count": 42,
   "metadata": {
    "scrolled": true
   },
   "outputs": [
    {
     "name": "stdout",
     "output_type": "stream",
     "text": [
      "There are 13233 total human images.\n"
     ]
    }
   ],
   "source": [
    "import random\n",
    "random.seed(8675309)\n",
    "\n",
    "# load filenames in shuffled human dataset\n",
    "human_files = np.array(glob(\"lfw/*/*\"))\n",
    "random.shuffle(human_files)\n",
    "\n",
    "# print statistics about the dataset\n",
    "print('There are %d total human images.' % len(human_files))"
   ]
  },
  {
   "cell_type": "markdown",
   "metadata": {},
   "source": [
    "---\n",
    "<a id='step1'></a>\n",
    "## Step 1: Detect Humans\n",
    "\n",
    "We use OpenCV's implementation of [Haar feature-based cascade classifiers](http://docs.opencv.org/trunk/d7/d8b/tutorial_py_face_detection.html) to detect human faces in images.  OpenCV provides many pre-trained face detectors, stored as XML files on [github](https://github.com/opencv/opencv/tree/master/data/haarcascades).  We have downloaded one of these detectors and stored it in the `haarcascades` directory.\n",
    "\n",
    "In the next code cell, we demonstrate how to use this detector to find human faces in a sample image."
   ]
  },
  {
   "cell_type": "code",
   "execution_count": 43,
   "metadata": {
    "scrolled": true
   },
   "outputs": [
    {
     "name": "stdout",
     "output_type": "stream",
     "text": [
      "Number of faces detected: 1\n"
     ]
    },
    {
     "data": {
      "image/png": "[encoded data removed]",
      "text/plain": [
       "<Figure size 432x288 with 1 Axes>"
      ]
     },
     "metadata": {},
     "output_type": "display_data"
    }
   ],
   "source": [
    "import cv2                \n",
    "import matplotlib.pyplot as plt                        \n",
    "%matplotlib inline                               \n",
    "\n",
    "# extract pre-trained face detector\n",
    "face_cascade = cv2.CascadeClassifier('haarcascades/haarcascade_frontalface_alt.xml')\n",
    "\n",
    "# load color (BGR) image\n",
    "img = cv2.imread(human_files[3])\n",
    "# convert BGR image to grayscale\n",
    "gray = cv2.cvtColor(img, cv2.COLOR_BGR2GRAY)\n",
    "\n",
    "# find faces in image\n",
    "faces = face_cascade.detectMultiScale(gray)\n",
    "\n",
    "# print number of faces detected in the image\n",
    "print('Number of faces detected:', len(faces))\n",
    "\n",
    "# get bounding box for each detected face\n",
    "for (x,y,w,h) in faces:\n",
    "    # add bounding box to color image\n",
    "    cv2.rectangle(img,(x,y),(x+w,y+h),(255,0,0),2)\n",
    "    \n",
    "# convert BGR image to RGB for plotting\n",
    "cv_rgb = cv2.cvtColor(img, cv2.COLOR_BGR2RGB)\n",
    "\n",
    "# display the image, along with bounding box\n",
    "plt.imshow(cv_rgb)\n",
    "plt.show()"
   ]
  },
  {
   "cell_type": "markdown",
   "metadata": {},
   "source": [
    "Before using any of the face detectors, it is standard procedure to convert the images to grayscale.  The `detectMultiScale` function executes the classifier stored in `face_cascade` and takes the grayscale image as a parameter.  \n",
    "\n",
    "In the above code, `faces` is a numpy array of detected faces, where each row corresponds to a detected face.  Each detected face is a 1D array with four entries that specifies the bounding box of the detected face.  The first two entries in the array (extracted in the above code as `x` and `y`) specify the horizontal and vertical positions of the top left corner of the bounding box.  The last two entries in the array (extracted here as `w` and `h`) specify the width and height of the box.\n",
    "\n",
    "### Write a Human Face Detector\n",
    "\n",
    "We can use this procedure to write a function that returns `True` if a human face is detected in an image and `False` otherwise.  This function, aptly named `face_detector`, takes a string-valued file path to an image as input and appears in the code block below."
   ]
  },
  {
   "cell_type": "code",
   "execution_count": 44,
   "metadata": {
    "scrolled": true
   },
   "outputs": [],
   "source": [
    "# returns \"True\" if face is detected in image stored at img_path\n",
    "def face_detector(img_path):\n",
    "    img = cv2.imread(img_path)\n",
    "    gray = cv2.cvtColor(img, cv2.COLOR_BGR2GRAY)\n",
    "    faces = face_cascade.detectMultiScale(gray)\n",
    "    return len(faces) > 0"
   ]
  },
  {
   "cell_type": "markdown",
   "metadata": {},
   "source": [
    "### (IMPLEMENTATION) Assess the Human Face Detector\n",
    "\n",
    "__Question 1:__ Use the code cell below to test the performance of the `face_detector` function.  \n",
    "- What percentage of the first 100 images in `human_files` have a detected human face?  \n",
    "- What percentage of the first 100 images in `dog_files` have a detected human face? \n",
    "\n",
    "Ideally, we would like 100% of human images with a detected face and 0% of dog images with a detected face.  You will see that our algorithm falls short of this goal, but still gives acceptable performance.  We extract the file paths for the first 100 images from each of the datasets and store them in the numpy arrays `human_files_short` and `dog_files_short`.\n",
    "\n",
    "__Answer:__ "
   ]
  },
  {
   "cell_type": "code",
   "execution_count": 45,
   "metadata": {
    "scrolled": true
   },
   "outputs": [
    {
     "name": "stdout",
     "output_type": "stream",
     "text": [
      "Detection rate for human 99%\n",
      "Detection rate for dog 12%\n"
     ]
    }
   ],
   "source": [
    "human_files_short = human_files[:100]\n",
    "dog_files_short = train_files[:100]\n",
    "# Do NOT modify the code above this line.\n",
    "\n",
    "## TODO: Test the performance of the face_detector algorithm \n",
    "## on the images in human_files_short and dog_files_short.\n",
    "human = 0\n",
    "dog = 0\n",
    "for file in human_files_short:\n",
    "    if face_detector(file):\n",
    "        human += 1\n",
    "for file in dog_files_short:\n",
    "    if face_detector(file):\n",
    "        dog += 1\n",
    "print('Detection rate for human {0}%'.format(human))\n",
    "print('Detection rate for dog {0}%'.format(dog))"
   ]
  },
  {
   "cell_type": "markdown",
   "metadata": {},
   "source": [
    "__Question 2:__ This algorithmic choice necessitates that we communicate to the user that we accept human images only when they provide a clear view of a face (otherwise, we risk having unneccessarily frustrated users!). In your opinion, is this a reasonable expectation to pose on the user? If not, can you think of a way to detect humans in images that does not necessitate an image with a clearly presented face?\n",
    "\n",
    "__Answer:__\n",
    "\n",
    "We suggest the face detector from OpenCV as a potential way to detect human images in your algorithm, but you are free to explore other approaches, especially approaches that make use of deep learning :).  Please use the code cell below to design and test your own face detection algorithm.  If you decide to pursue this _optional_ task, report performance on each of the datasets."
   ]
  },
  {
   "cell_type": "code",
   "execution_count": 46,
   "metadata": {
    "scrolled": true
   },
   "outputs": [
    {
     "name": "stdout",
     "output_type": "stream",
     "text": [
      "Detection rate for human 100%\n",
      "Detection rate for dog 10%\n"
     ]
    }
   ],
   "source": [
    "## (Optional) TODO: Report the performance of another  \n",
    "## face detection algorithm on the LFW dataset\n",
    "### Feel free to use as many code cells as needed.\n",
    "import face_recognition\n",
    "human = 0\n",
    "dog = 0\n",
    "for file in human_files_short:\n",
    "    locations = face_recognition.face_locations(face_recognition.load_image_file(file))\n",
    "    if len(locations) > 0:\n",
    "        human += 1\n",
    "for file in dog_files_short:\n",
    "    locations = face_recognition.face_locations(face_recognition.load_image_file(file))\n",
    "    if len(locations) > 0:\n",
    "        dog += 1\n",
    "print('Detection rate for human {0}%'.format(human))\n",
    "print('Detection rate for dog {0}%'.format(dog))"
   ]
  },
  {
   "cell_type": "markdown",
   "metadata": {},
   "source": [
    "---\n",
    "<a id='step2'></a>\n",
    "## Step 2: Detect Dogs\n",
    "\n",
    "In this section, we use a pre-trained [ResNet-50](http://ethereon.github.io/netscope/#/gist/db945b393d40bfa26006) model to detect dogs in images.  Our first line of code downloads the ResNet-50 model, along with weights that have been trained on [ImageNet](http://www.image-net.org/), a very large, very popular dataset used for image classification and other vision tasks.  ImageNet contains over 10 million URLs, each linking to an image containing an object from one of [1000 categories](https://gist.github.com/yrevar/942d3a0ac09ec9e5eb3a).  Given an image, this pre-trained ResNet-50 model returns a prediction (derived from the available categories in ImageNet) for the object that is contained in the image."
   ]
  },
  {
   "cell_type": "code",
   "execution_count": 47,
   "metadata": {
    "scrolled": true
   },
   "outputs": [],
   "source": [
    "from keras.applications.resnet50 import ResNet50\n",
    "\n",
    "# define ResNet50 model\n",
    "ResNet50_model = ResNet50(weights='imagenet')"
   ]
  },
  {
   "cell_type": "markdown",
   "metadata": {},
   "source": [
    "### Pre-process the Data\n",
    "\n",
    "When using TensorFlow as backend, Keras CNNs require a 4D array (which we'll also refer to as a 4D tensor) as input, with shape\n",
    "\n",
    "$$\n",
    "(\\text{nb_samples}, \\text{rows}, \\text{columns}, \\text{channels}),\n",
    "$$\n",
    "\n",
    "where `nb_samples` corresponds to the total number of images (or samples), and `rows`, `columns`, and `channels` correspond to the number of rows, columns, and channels for each image, respectively.  \n",
    "\n",
    "The `path_to_tensor` function below takes a string-valued file path to a color image as input and returns a 4D tensor suitable for supplying to a Keras CNN.  The function first loads the image and resizes it to a square image that is $224 \\times 224$ pixels.  Next, the image is converted to an array, which is then resized to a 4D tensor.  In this case, since we are working with color images, each image has three channels.  Likewise, since we are processing a single image (or sample), the returned tensor will always have shape\n",
    "\n",
    "$$\n",
    "(1, 224, 224, 3).\n",
    "$$\n",
    "\n",
    "The `paths_to_tensor` function takes a numpy array of string-valued image paths as input and returns a 4D tensor with shape \n",
    "\n",
    "$$\n",
    "(\\text{nb_samples}, 224, 224, 3).\n",
    "$$\n",
    "\n",
    "Here, `nb_samples` is the number of samples, or number of images, in the supplied array of image paths.  It is best to think of `nb_samples` as the number of 3D tensors (where each 3D tensor corresponds to a different image) in your dataset!"
   ]
  },
  {
   "cell_type": "code",
   "execution_count": 48,
   "metadata": {
    "scrolled": true
   },
   "outputs": [],
   "source": [
    "from keras.preprocessing import image                  \n",
    "from tqdm import tqdm\n",
    "\n",
    "def path_to_tensor(img_path):\n",
    "    # loads RGB image as PIL.Image.Image type\n",
    "    img = image.load_img(img_path, target_size=(224, 224))\n",
    "    # convert PIL.Image.Image type to 3D tensor with shape (224, 224, 3)\n",
    "    x = image.img_to_array(img)\n",
    "    # convert 3D tensor to 4D tensor with shape (1, 224, 224, 3) and return 4D tensor\n",
    "    return np.expand_dims(x, axis=0)\n",
    "\n",
    "def paths_to_tensor(img_paths):\n",
    "    list_of_tensors = [path_to_tensor(img_path) for img_path in tqdm(img_paths)]\n",
    "    return np.vstack(list_of_tensors)"
   ]
  },
  {
   "cell_type": "markdown",
   "metadata": {},
   "source": [
    "### Making Predictions with ResNet-50\n",
    "\n",
    "Getting the 4D tensor ready for ResNet-50, and for any other pre-trained model in Keras, requires some additional processing.  First, the RGB image is converted to BGR by reordering the channels.  All pre-trained models have the additional normalization step that the mean pixel (expressed in RGB as $[103.939, 116.779, 123.68]$ and calculated from all pixels in all images in ImageNet) must be subtracted from every pixel in each image.  This is implemented in the imported function `preprocess_input`.  If you're curious, you can check the code for `preprocess_input` [here](https://github.com/fchollet/keras/blob/master/keras/applications/imagenet_utils.py).\n",
    "\n",
    "Now that we have a way to format our image for supplying to ResNet-50, we are now ready to use the model to extract the predictions.  This is accomplished with the `predict` method, which returns an array whose $i$-th entry is the model's predicted probability that the image belongs to the $i$-th ImageNet category.  This is implemented in the `ResNet50_predict_labels` function below.\n",
    "\n",
    "By taking the argmax of the predicted probability vector, we obtain an integer corresponding to the model's predicted object class, which we can identify with an object category through the use of this [dictionary](https://gist.github.com/yrevar/942d3a0ac09ec9e5eb3a). "
   ]
  },
  {
   "cell_type": "code",
   "execution_count": 49,
   "metadata": {
    "scrolled": true
   },
   "outputs": [],
   "source": [
    "from keras.applications.resnet50 import preprocess_input, decode_predictions\n",
    "\n",
    "def ResNet50_predict_labels(img_path):\n",
    "    # returns prediction vector for image located at img_path\n",
    "    img = preprocess_input(path_to_tensor(img_path))\n",
    "    return np.argmax(ResNet50_model.predict(img))"
   ]
  },
  {
   "cell_type": "markdown",
   "metadata": {},
   "source": [
    "### Write a Dog Detector\n",
    "\n",
    "While looking at the [dictionary](https://gist.github.com/yrevar/942d3a0ac09ec9e5eb3a), you will notice that the categories corresponding to dogs appear in an uninterrupted sequence and correspond to dictionary keys 151-268, inclusive, to include all categories from `'Chihuahua'` to `'Mexican hairless'`.  Thus, in order to check to see if an image is predicted to contain a dog by the pre-trained ResNet-50 model, we need only check if the `ResNet50_predict_labels` function above returns a value between 151 and 268 (inclusive).\n",
    "\n",
    "We use these ideas to complete the `dog_detector` function below, which returns `True` if a dog is detected in an image (and `False` if not)."
   ]
  },
  {
   "cell_type": "code",
   "execution_count": 50,
   "metadata": {
    "scrolled": true
   },
   "outputs": [],
   "source": [
    "### returns \"True\" if a dog is detected in the image stored at img_path\n",
    "def dog_detector(img_path):\n",
    "    prediction = ResNet50_predict_labels(img_path)\n",
    "    return ((prediction <= 268) & (prediction >= 151)) "
   ]
  },
  {
   "cell_type": "markdown",
   "metadata": {},
   "source": [
    "### (IMPLEMENTATION) Assess the Dog Detector\n",
    "\n",
    "__Question 3:__ Use the code cell below to test the performance of your `dog_detector` function.  \n",
    "- What percentage of the images in `human_files_short` have a detected dog?  \n",
    "- What percentage of the images in `dog_files_short` have a detected dog?\n",
    "\n",
    "__Answer:__ "
   ]
  },
  {
   "cell_type": "code",
   "execution_count": 51,
   "metadata": {
    "scrolled": true
   },
   "outputs": [
    {
     "name": "stdout",
     "output_type": "stream",
     "text": [
      "Detection dog rate for human 0%\n",
      "Detection dog rate for dog 100%\n"
     ]
    }
   ],
   "source": [
    "### TODO: Test the performance of the dog_detector function\n",
    "### on the images in human_files_short and dog_files_short.\n",
    "human = 0\n",
    "dog = 0\n",
    "for file in human_files_short:\n",
    "    if dog_detector(file):\n",
    "        human += 1\n",
    "for file in dog_files_short:\n",
    "    if dog_detector(file):\n",
    "        dog += 1\n",
    "print('Detection dog rate for human {0}%'.format(human))\n",
    "print('Detection dog rate for dog {0}%'.format(dog))"
   ]
  },
  {
   "cell_type": "markdown",
   "metadata": {},
   "source": [
    "---\n",
    "<a id='step3'></a>\n",
    "## Step 3: Create a CNN to Classify Dog Breeds (from Scratch)\n",
    "\n",
    "Now that we have functions for detecting humans and dogs in images, we need a way to predict breed from images.  In this step, you will create a CNN that classifies dog breeds.  You must create your CNN _from scratch_ (so, you can't use transfer learning _yet_!), and you must attain a test accuracy of at least 1%.  In Step 5 of this notebook, you will have the opportunity to use transfer learning to create a CNN that attains greatly improved accuracy.\n",
    "\n",
    "Be careful with adding too many trainable layers!  More parameters means longer training, which means you are more likely to need a GPU to accelerate the training process.  Thankfully, Keras provides a handy estimate of the time that each epoch is likely to take; you can extrapolate this estimate to figure out how long it will take for your algorithm to train. \n",
    "\n",
    "We mention that the task of assigning breed to dogs from images is considered exceptionally challenging.  To see why, consider that *even a human* would have great difficulty in distinguishing between a Brittany and a Welsh Springer Spaniel.  \n",
    "\n",
    "Brittany | Welsh Springer Spaniel\n",
    "- | - \n",
    "<img src=\"images/Brittany_02625.jpg\" width=\"100\"> | <img src=\"images/Welsh_springer_spaniel_08203.jpg\" width=\"200\">\n",
    "\n",
    "It is not difficult to find other dog breed pairs with minimal inter-class variation (for instance, Curly-Coated Retrievers and American Water Spaniels).  \n",
    "\n",
    "Curly-Coated Retriever | American Water Spaniel\n",
    "- | -\n",
    "<img src=\"images/Curly-coated_retriever_03896.jpg\" width=\"200\"> | <img src=\"images/American_water_spaniel_00648.jpg\" width=\"200\">\n",
    "\n",
    "\n",
    "Likewise, recall that labradors come in yellow, chocolate, and black.  Your vision-based algorithm will have to conquer this high intra-class variation to determine how to classify all of these different shades as the same breed.  \n",
    "\n",
    "Yellow Labrador | Chocolate Labrador | Black Labrador\n",
    "- | -\n",
    "<img src=\"images/Labrador_retriever_06457.jpg\" width=\"150\"> | <img src=\"images/Labrador_retriever_06455.jpg\" width=\"240\"> | <img src=\"images/Labrador_retriever_06449.jpg\" width=\"220\">\n",
    "\n",
    "We also mention that random chance presents an exceptionally low bar: setting aside the fact that the classes are slightly imabalanced, a random guess will provide a correct answer roughly 1 in 133 times, which corresponds to an accuracy of less than 1%.  \n",
    "\n",
    "Remember that the practice is far ahead of the theory in deep learning.  Experiment with many different architectures, and trust your intuition.  And, of course, have fun! \n",
    "\n",
    "### Pre-process the Data\n",
    "\n",
    "We rescale the images by dividing every pixel in every image by 255."
   ]
  },
  {
   "cell_type": "code",
   "execution_count": 52,
   "metadata": {
    "scrolled": true
   },
   "outputs": [
    {
     "name": "stderr",
     "output_type": "stream",
     "text": [
      "100%|██████████| 6680/6680 [02:25<00:00, 45.84it/s]\n",
      "100%|██████████| 835/835 [00:16<00:00, 51.17it/s]\n",
      "100%|██████████| 836/836 [00:16<00:00, 51.52it/s]\n"
     ]
    }
   ],
   "source": [
    "from PIL import ImageFile                            \n",
    "ImageFile.LOAD_TRUNCATED_IMAGES = True                 \n",
    "\n",
    "# pre-process the data for Keras\n",
    "train_tensors = paths_to_tensor(train_files).astype('float32')/255\n",
    "valid_tensors = paths_to_tensor(valid_files).astype('float32')/255\n",
    "test_tensors = paths_to_tensor(test_files).astype('float32')/255"
   ]
  },
  {
   "cell_type": "markdown",
   "metadata": {},
   "source": [
    "### (IMPLEMENTATION) Model Architecture\n",
    "\n",
    "Create a CNN to classify dog breed.  At the end of your code cell block, summarize the layers of your model by executing the line:\n",
    "    \n",
    "        model.summary()\n",
    "\n",
    "We have imported some Python modules to get you started, but feel free to import as many modules as you need.  If you end up getting stuck, here's a hint that specifies a model that trains relatively fast on CPU and attains >1% test accuracy in 5 epochs:\n",
    "\n",
    "![Sample CNN](images/sample_cnn.png)\n",
    "           \n",
    "__Question 4:__ Outline the steps you took to get to your final CNN architecture and your reasoning at each step.  If you chose to use the hinted architecture above, describe why you think that CNN architecture should work well for the image classification task.\n",
    "\n",
    "__Answer:__ "
   ]
  },
  {
   "cell_type": "code",
   "execution_count": 64,
   "metadata": {
    "scrolled": true
   },
   "outputs": [
    {
     "name": "stdout",
     "output_type": "stream",
     "text": [
      "_________________________________________________________________\n",
      "Layer (type)                 Output Shape              Param #   \n",
      "=================================================================\n",
      "conv2d_43 (Conv2D)           (None, 223, 223, 16)      208       \n",
      "_________________________________________________________________\n",
      "max_pooling2d_36 (MaxPooling (None, 111, 111, 16)      0         \n",
      "_________________________________________________________________\n",
      "conv2d_44 (Conv2D)           (None, 110, 110, 32)      2080      \n",
      "_________________________________________________________________\n",
      "max_pooling2d_37 (MaxPooling (None, 55, 55, 32)        0         \n",
      "_________________________________________________________________\n",
      "conv2d_45 (Conv2D)           (None, 54, 54, 64)        8256      \n",
      "_________________________________________________________________\n",
      "max_pooling2d_38 (MaxPooling (None, 27, 27, 64)        0         \n",
      "_________________________________________________________________\n",
      "global_average_pooling2d_9 ( (None, 64)                0         \n",
      "_________________________________________________________________\n",
      "dense_7 (Dense)              (None, 133)               8645      \n",
      "=================================================================\n",
      "Total params: 19,189\n",
      "Trainable params: 19,189\n",
      "Non-trainable params: 0\n",
      "_________________________________________________________________\n"
     ]
    }
   ],
   "source": [
    "from keras.layers import Conv2D, MaxPooling2D, GlobalAveragePooling2D\n",
    "from keras.layers import Dropout, Flatten, Dense\n",
    "from keras.models import Sequential\n",
    "\n",
    "model = Sequential()\n",
    "\n",
    "### TODO: Define your architecture.\n",
    "model.add(Conv2D(filters=16, kernel_size=2, padding='valid', activation='relu', \n",
    "                        input_shape=(224, 224, 3)))\n",
    "model.add(MaxPooling2D(pool_size=2))\n",
    "model.add(Conv2D(filters=32, kernel_size=2, padding='valid', activation='relu'))\n",
    "model.add(MaxPooling2D(pool_size=2))\n",
    "model.add(Conv2D(filters=64, kernel_size=2, padding='valid', activation='relu'))\n",
    "model.add(MaxPooling2D(pool_size=2))\n",
    "model.add(GlobalAveragePooling2D())\n",
    "model.add(Dense(133, activation='softmax'))\n",
    "model.summary()"
   ]
  },
  {
   "cell_type": "markdown",
   "metadata": {},
   "source": [
    "### Compile the Model"
   ]
  },
  {
   "cell_type": "code",
   "execution_count": 65,
   "metadata": {
    "scrolled": true
   },
   "outputs": [],
   "source": [
    "model.compile(optimizer='rmsprop', loss='categorical_crossentropy', metrics=['accuracy'])"
   ]
  },
  {
   "cell_type": "markdown",
   "metadata": {},
   "source": [
    "### (IMPLEMENTATION) Train the Model\n",
    "\n",
    "Train your model in the code cell below.  Use model checkpointing to save the model that attains the best validation loss.\n",
    "\n",
    "You are welcome to [augment the training data](https://blog.keras.io/building-powerful-image-classification-models-using-very-little-data.html), but this is not a requirement. "
   ]
  },
  {
   "cell_type": "code",
   "execution_count": 66,
   "metadata": {
    "scrolled": false
   },
   "outputs": [
    {
     "name": "stdout",
     "output_type": "stream",
     "text": [
      "Train on 6680 samples, validate on 835 samples\n",
      "Epoch 1/40\n",
      "6680/6680 [==============================] - 9s 1ms/step - loss: 4.8835 - acc: 0.0094 - val_loss: 4.8687 - val_acc: 0.0108\n",
      "\n",
      "Epoch 00001: val_loss improved from inf to 4.86871, saving model to saved_models/weights.best.from_scratch.hdf5\n",
      "Epoch 2/40\n",
      "6680/6680 [==============================] - 7s 1ms/step - loss: 4.8673 - acc: 0.0127 - val_loss: 4.8575 - val_acc: 0.0120\n",
      "\n",
      "Epoch 00002: val_loss improved from 4.86871 to 4.85753, saving model to saved_models/weights.best.from_scratch.hdf5\n",
      "Epoch 3/40\n",
      "6680/6680 [==============================] - 7s 1ms/step - loss: 4.8380 - acc: 0.0154 - val_loss: 4.8296 - val_acc: 0.0144\n",
      "\n",
      "Epoch 00003: val_loss improved from 4.85753 to 4.82965, saving model to saved_models/weights.best.from_scratch.hdf5\n",
      "Epoch 4/40\n",
      "6680/6680 [==============================] - 7s 1ms/step - loss: 4.7941 - acc: 0.0181 - val_loss: 4.8286 - val_acc: 0.0180\n",
      "\n",
      "Epoch 00004: val_loss improved from 4.82965 to 4.82860, saving model to saved_models/weights.best.from_scratch.hdf5\n",
      "Epoch 5/40\n",
      "6680/6680 [==============================] - 8s 1ms/step - loss: 4.7549 - acc: 0.0214 - val_loss: 4.7692 - val_acc: 0.0204\n",
      "\n",
      "Epoch 00005: val_loss improved from 4.82860 to 4.76921, saving model to saved_models/weights.best.from_scratch.hdf5\n",
      "Epoch 6/40\n",
      "6680/6680 [==============================] - 7s 1ms/step - loss: 4.7223 - acc: 0.0253 - val_loss: 4.7492 - val_acc: 0.0251\n",
      "\n",
      "Epoch 00006: val_loss improved from 4.76921 to 4.74917, saving model to saved_models/weights.best.from_scratch.hdf5\n",
      "Epoch 7/40\n",
      "6680/6680 [==============================] - 7s 1ms/step - loss: 4.6979 - acc: 0.0262 - val_loss: 4.7436 - val_acc: 0.0287\n",
      "\n",
      "Epoch 00007: val_loss improved from 4.74917 to 4.74363, saving model to saved_models/weights.best.from_scratch.hdf5\n",
      "Epoch 8/40\n",
      "6680/6680 [==============================] - 7s 1ms/step - loss: 4.6745 - acc: 0.0308 - val_loss: 4.7260 - val_acc: 0.0335\n",
      "\n",
      "Epoch 00008: val_loss improved from 4.74363 to 4.72601, saving model to saved_models/weights.best.from_scratch.hdf5\n",
      "Epoch 9/40\n",
      "6680/6680 [==============================] - 8s 1ms/step - loss: 4.6537 - acc: 0.0352 - val_loss: 4.7121 - val_acc: 0.0323\n",
      "\n",
      "Epoch 00009: val_loss improved from 4.72601 to 4.71209, saving model to saved_models/weights.best.from_scratch.hdf5\n",
      "Epoch 10/40\n",
      "6680/6680 [==============================] - 7s 1ms/step - loss: 4.6357 - acc: 0.0359 - val_loss: 4.7092 - val_acc: 0.0275\n",
      "\n",
      "Epoch 00010: val_loss improved from 4.71209 to 4.70919, saving model to saved_models/weights.best.from_scratch.hdf5\n",
      "Epoch 11/40\n",
      "6680/6680 [==============================] - 8s 1ms/step - loss: 4.6126 - acc: 0.0379 - val_loss: 4.6826 - val_acc: 0.0335\n",
      "\n",
      "Epoch 00011: val_loss improved from 4.70919 to 4.68263, saving model to saved_models/weights.best.from_scratch.hdf5\n",
      "Epoch 12/40\n",
      "6680/6680 [==============================] - 7s 1ms/step - loss: 4.5900 - acc: 0.0401 - val_loss: 4.6729 - val_acc: 0.0347\n",
      "\n",
      "Epoch 00012: val_loss improved from 4.68263 to 4.67288, saving model to saved_models/weights.best.from_scratch.hdf5\n",
      "Epoch 13/40\n",
      "6680/6680 [==============================] - 8s 1ms/step - loss: 4.5674 - acc: 0.0452 - val_loss: 4.6506 - val_acc: 0.0299\n",
      "\n",
      "Epoch 00013: val_loss improved from 4.67288 to 4.65059, saving model to saved_models/weights.best.from_scratch.hdf5\n",
      "Epoch 14/40\n",
      "6680/6680 [==============================] - 7s 1ms/step - loss: 4.5471 - acc: 0.0472 - val_loss: 4.6468 - val_acc: 0.0359\n",
      "\n",
      "Epoch 00014: val_loss improved from 4.65059 to 4.64682, saving model to saved_models/weights.best.from_scratch.hdf5\n",
      "Epoch 15/40\n",
      "6680/6680 [==============================] - 7s 1ms/step - loss: 4.5256 - acc: 0.0467 - val_loss: 4.6026 - val_acc: 0.0359\n",
      "\n",
      "Epoch 00015: val_loss improved from 4.64682 to 4.60258, saving model to saved_models/weights.best.from_scratch.hdf5\n",
      "Epoch 16/40\n",
      "6680/6680 [==============================] - 7s 1ms/step - loss: 4.5019 - acc: 0.0493 - val_loss: 4.5794 - val_acc: 0.0383\n",
      "\n",
      "Epoch 00016: val_loss improved from 4.60258 to 4.57941, saving model to saved_models/weights.best.from_scratch.hdf5\n",
      "Epoch 17/40\n",
      "6680/6680 [==============================] - 7s 1ms/step - loss: 4.4787 - acc: 0.0497 - val_loss: 4.5950 - val_acc: 0.0335\n",
      "\n",
      "Epoch 00017: val_loss did not improve\n",
      "Epoch 18/40\n",
      "6680/6680 [==============================] - 7s 1ms/step - loss: 4.4615 - acc: 0.0548 - val_loss: 4.5791 - val_acc: 0.0383\n",
      "\n",
      "Epoch 00018: val_loss improved from 4.57941 to 4.57910, saving model to saved_models/weights.best.from_scratch.hdf5\n",
      "Epoch 19/40\n",
      "6680/6680 [==============================] - 7s 1ms/step - loss: 4.4392 - acc: 0.0582 - val_loss: 4.5777 - val_acc: 0.0395\n",
      "\n",
      "Epoch 00019: val_loss improved from 4.57910 to 4.57770, saving model to saved_models/weights.best.from_scratch.hdf5\n",
      "Epoch 20/40\n",
      "6680/6680 [==============================] - 7s 1ms/step - loss: 4.4228 - acc: 0.0575 - val_loss: 4.5359 - val_acc: 0.0383\n",
      "\n",
      "Epoch 00020: val_loss improved from 4.57770 to 4.53590, saving model to saved_models/weights.best.from_scratch.hdf5\n",
      "Epoch 21/40\n",
      "6680/6680 [==============================] - 7s 1ms/step - loss: 4.4005 - acc: 0.0596 - val_loss: 4.5367 - val_acc: 0.0407\n",
      "\n",
      "Epoch 00021: val_loss did not improve\n",
      "Epoch 22/40\n",
      "6680/6680 [==============================] - 7s 1ms/step - loss: 4.3819 - acc: 0.0647 - val_loss: 4.5474 - val_acc: 0.0371\n",
      "\n",
      "Epoch 00022: val_loss did not improve\n",
      "Epoch 23/40\n",
      "6680/6680 [==============================] - 7s 1ms/step - loss: 4.3648 - acc: 0.0677 - val_loss: 4.5305 - val_acc: 0.0443\n",
      "\n",
      "Epoch 00023: val_loss improved from 4.53590 to 4.53050, saving model to saved_models/weights.best.from_scratch.hdf5\n",
      "Epoch 24/40\n",
      "6680/6680 [==============================] - 7s 1ms/step - loss: 4.3417 - acc: 0.0659 - val_loss: 4.4974 - val_acc: 0.0479\n",
      "\n",
      "Epoch 00024: val_loss improved from 4.53050 to 4.49741, saving model to saved_models/weights.best.from_scratch.hdf5\n",
      "Epoch 25/40\n",
      "6680/6680 [==============================] - 7s 1ms/step - loss: 4.3280 - acc: 0.0702 - val_loss: 4.4508 - val_acc: 0.0443\n",
      "\n",
      "Epoch 00025: val_loss improved from 4.49741 to 4.45075, saving model to saved_models/weights.best.from_scratch.hdf5\n",
      "Epoch 26/40\n",
      "6680/6680 [==============================] - 7s 1ms/step - loss: 4.3124 - acc: 0.0675 - val_loss: 4.4752 - val_acc: 0.0491\n",
      "\n",
      "Epoch 00026: val_loss did not improve\n",
      "Epoch 27/40\n",
      "6680/6680 [==============================] - 7s 1ms/step - loss: 4.2936 - acc: 0.0735 - val_loss: 4.4903 - val_acc: 0.0479\n",
      "\n",
      "Epoch 00027: val_loss did not improve\n",
      "Epoch 28/40\n",
      "6680/6680 [==============================] - 7s 1ms/step - loss: 4.2757 - acc: 0.0749 - val_loss: 4.4599 - val_acc: 0.0527\n",
      "\n",
      "Epoch 00028: val_loss did not improve\n",
      "Epoch 29/40\n",
      "6680/6680 [==============================] - 7s 1ms/step - loss: 4.2514 - acc: 0.0756 - val_loss: 4.4382 - val_acc: 0.0467\n",
      "\n",
      "Epoch 00029: val_loss improved from 4.45075 to 4.43822, saving model to saved_models/weights.best.from_scratch.hdf5\n",
      "Epoch 30/40\n",
      "6680/6680 [==============================] - 8s 1ms/step - loss: 4.2413 - acc: 0.0771 - val_loss: 4.4466 - val_acc: 0.0539\n",
      "\n",
      "Epoch 00030: val_loss did not improve\n",
      "Epoch 31/40\n",
      "6680/6680 [==============================] - 8s 1ms/step - loss: 4.2218 - acc: 0.0786 - val_loss: 4.4834 - val_acc: 0.0503\n",
      "\n",
      "Epoch 00031: val_loss did not improve\n",
      "Epoch 32/40\n",
      "6680/6680 [==============================] - 7s 1ms/step - loss: 4.2066 - acc: 0.0804 - val_loss: 4.3892 - val_acc: 0.0611\n",
      "\n",
      "Epoch 00032: val_loss improved from 4.43822 to 4.38923, saving model to saved_models/weights.best.from_scratch.hdf5\n",
      "Epoch 33/40\n",
      "6680/6680 [==============================] - 8s 1ms/step - loss: 4.1943 - acc: 0.0820 - val_loss: 4.3454 - val_acc: 0.0623\n",
      "\n",
      "Epoch 00033: val_loss improved from 4.38923 to 4.34536, saving model to saved_models/weights.best.from_scratch.hdf5\n",
      "Epoch 34/40\n",
      "6680/6680 [==============================] - 8s 1ms/step - loss: 4.1795 - acc: 0.0877 - val_loss: 4.3321 - val_acc: 0.0599\n",
      "\n",
      "Epoch 00034: val_loss improved from 4.34536 to 4.33212, saving model to saved_models/weights.best.from_scratch.hdf5\n",
      "Epoch 35/40\n",
      "6680/6680 [==============================] - 8s 1ms/step - loss: 4.1671 - acc: 0.0871 - val_loss: 4.3396 - val_acc: 0.0599\n",
      "\n",
      "Epoch 00035: val_loss did not improve\n",
      "Epoch 36/40\n"
     ]
    },
    {
     "name": "stdout",
     "output_type": "stream",
     "text": [
      "6680/6680 [==============================] - 7s 1ms/step - loss: 4.1485 - acc: 0.0895 - val_loss: 4.3280 - val_acc: 0.0683\n",
      "\n",
      "Epoch 00036: val_loss improved from 4.33212 to 4.32799, saving model to saved_models/weights.best.from_scratch.hdf5\n",
      "Epoch 37/40\n",
      "6680/6680 [==============================] - 7s 1ms/step - loss: 4.1345 - acc: 0.0904 - val_loss: 4.3433 - val_acc: 0.0683\n",
      "\n",
      "Epoch 00037: val_loss did not improve\n",
      "Epoch 38/40\n",
      "6680/6680 [==============================] - 8s 1ms/step - loss: 4.1215 - acc: 0.0904 - val_loss: 4.2921 - val_acc: 0.0766\n",
      "\n",
      "Epoch 00038: val_loss improved from 4.32799 to 4.29215, saving model to saved_models/weights.best.from_scratch.hdf5\n",
      "Epoch 39/40\n",
      "6680/6680 [==============================] - 7s 1ms/step - loss: 4.1053 - acc: 0.0916 - val_loss: 4.2972 - val_acc: 0.0719\n",
      "\n",
      "Epoch 00039: val_loss did not improve\n",
      "Epoch 40/40\n",
      "6680/6680 [==============================] - 8s 1ms/step - loss: 4.0933 - acc: 0.0991 - val_loss: 4.3161 - val_acc: 0.0695\n",
      "\n",
      "Epoch 00040: val_loss did not improve\n"
     ]
    },
    {
     "data": {
      "text/plain": [
       "<keras.callbacks.History at 0x7f4d8a6917f0>"
      ]
     },
     "execution_count": 66,
     "metadata": {},
     "output_type": "execute_result"
    }
   ],
   "source": [
    "from keras.callbacks import ModelCheckpoint  \n",
    "\n",
    "### TODO: specify the number of epochs that you would like to use to train the model.\n",
    "\n",
    "epochs = 40\n",
    "\n",
    "### Do NOT modify the code below this line.\n",
    "\n",
    "checkpointer = ModelCheckpoint(filepath='saved_models/weights.best.from_scratch.hdf5', \n",
    "                               verbose=1, save_best_only=True)\n",
    "\n",
    "model.fit(train_tensors, train_targets, \n",
    "          validation_data=(valid_tensors, valid_targets),\n",
    "          epochs=epochs, batch_size=20, callbacks=[checkpointer], verbose=1)"
   ]
  },
  {
   "cell_type": "markdown",
   "metadata": {},
   "source": [
    "### Load the Model with the Best Validation Loss"
   ]
  },
  {
   "cell_type": "code",
   "execution_count": 67,
   "metadata": {
    "scrolled": true
   },
   "outputs": [],
   "source": [
    "model.load_weights('saved_models/weights.best.from_scratch.hdf5')"
   ]
  },
  {
   "cell_type": "markdown",
   "metadata": {},
   "source": [
    "### Test the Model\n",
    "\n",
    "Try out your model on the test dataset of dog images.  Ensure that your test accuracy is greater than 1%."
   ]
  },
  {
   "cell_type": "code",
   "execution_count": 68,
   "metadata": {
    "scrolled": true
   },
   "outputs": [
    {
     "name": "stdout",
     "output_type": "stream",
     "text": [
      "Test accuracy: 8.9713%\n"
     ]
    }
   ],
   "source": [
    "# get index of predicted dog breed for each image in test set\n",
    "dog_breed_predictions = [np.argmax(model.predict(np.expand_dims(tensor, axis=0))) for tensor in test_tensors]\n",
    "\n",
    "# report test accuracy\n",
    "test_accuracy = 100*np.sum(np.array(dog_breed_predictions)==np.argmax(test_targets, axis=1))/len(dog_breed_predictions)\n",
    "print('Test accuracy: %.4f%%' % test_accuracy)"
   ]
  },
  {
   "cell_type": "markdown",
   "metadata": {},
   "source": [
    "---\n",
    "<a id='step4'></a>\n",
    "## Step 4: Use a CNN to Classify Dog Breeds\n",
    "\n",
    "To reduce training time without sacrificing accuracy, we show you how to train a CNN using transfer learning.  In the following step, you will get a chance to use transfer learning to train your own CNN.\n",
    "\n",
    "### Obtain Bottleneck Features"
   ]
  },
  {
   "cell_type": "code",
   "execution_count": 69,
   "metadata": {
    "scrolled": true
   },
   "outputs": [],
   "source": [
    "bottleneck_features = np.load('bottleneck_features/DogVGG16Data.npz')\n",
    "train_VGG16 = bottleneck_features['train']\n",
    "valid_VGG16 = bottleneck_features['valid']\n",
    "test_VGG16 = bottleneck_features['test']"
   ]
  },
  {
   "cell_type": "markdown",
   "metadata": {},
   "source": [
    "### Model Architecture\n",
    "\n",
    "The model uses the the pre-trained VGG-16 model as a fixed feature extractor, where the last convolutional output of VGG-16 is fed as input to our model.  We only add a global average pooling layer and a fully connected layer, where the latter contains one node for each dog category and is equipped with a softmax."
   ]
  },
  {
   "cell_type": "code",
   "execution_count": 70,
   "metadata": {
    "scrolled": true
   },
   "outputs": [
    {
     "name": "stdout",
     "output_type": "stream",
     "text": [
      "_________________________________________________________________\n",
      "Layer (type)                 Output Shape              Param #   \n",
      "=================================================================\n",
      "global_average_pooling2d_10  (None, 512)               0         \n",
      "_________________________________________________________________\n",
      "dense_8 (Dense)              (None, 133)               68229     \n",
      "=================================================================\n",
      "Total params: 68,229\n",
      "Trainable params: 68,229\n",
      "Non-trainable params: 0\n",
      "_________________________________________________________________\n"
     ]
    }
   ],
   "source": [
    "VGG16_model = Sequential()\n",
    "VGG16_model.add(GlobalAveragePooling2D(input_shape=train_VGG16.shape[1:]))\n",
    "VGG16_model.add(Dense(133, activation='softmax'))\n",
    "\n",
    "VGG16_model.summary()"
   ]
  },
  {
   "cell_type": "markdown",
   "metadata": {},
   "source": [
    "### Compile the Model"
   ]
  },
  {
   "cell_type": "code",
   "execution_count": 71,
   "metadata": {
    "scrolled": true
   },
   "outputs": [],
   "source": [
    "VGG16_model.compile(loss='categorical_crossentropy', optimizer='rmsprop', metrics=['accuracy'])"
   ]
  },
  {
   "cell_type": "markdown",
   "metadata": {},
   "source": [
    "### Train the Model"
   ]
  },
  {
   "cell_type": "code",
   "execution_count": 72,
   "metadata": {
    "scrolled": true
   },
   "outputs": [
    {
     "name": "stdout",
     "output_type": "stream",
     "text": [
      "Train on 6680 samples, validate on 835 samples\n",
      "Epoch 1/20\n",
      "6680/6680 [==============================] - 4s 529us/step - loss: 11.9229 - acc: 0.1310 - val_loss: 10.1702 - val_acc: 0.2204\n",
      "\n",
      "Epoch 00001: val_loss improved from inf to 10.17024, saving model to saved_models/weights.best.VGG16.hdf5\n",
      "Epoch 2/20\n",
      "6680/6680 [==============================] - 2s 240us/step - loss: 9.4456 - acc: 0.2934 - val_loss: 9.3430 - val_acc: 0.2898\n",
      "\n",
      "Epoch 00002: val_loss improved from 10.17024 to 9.34295, saving model to saved_models/weights.best.VGG16.hdf5\n",
      "Epoch 3/20\n",
      "6680/6680 [==============================] - 2s 232us/step - loss: 8.7864 - acc: 0.3725 - val_loss: 9.1088 - val_acc: 0.3437\n",
      "\n",
      "Epoch 00003: val_loss improved from 9.34295 to 9.10880, saving model to saved_models/weights.best.VGG16.hdf5\n",
      "Epoch 4/20\n",
      "6680/6680 [==============================] - 1s 220us/step - loss: 8.4698 - acc: 0.4114 - val_loss: 8.8158 - val_acc: 0.3569\n",
      "\n",
      "Epoch 00004: val_loss improved from 9.10880 to 8.81579, saving model to saved_models/weights.best.VGG16.hdf5\n",
      "Epoch 5/20\n",
      "6680/6680 [==============================] - 1s 224us/step - loss: 8.2135 - acc: 0.4422 - val_loss: 8.8786 - val_acc: 0.3665\n",
      "\n",
      "Epoch 00005: val_loss did not improve\n",
      "Epoch 6/20\n",
      "6680/6680 [==============================] - 1s 223us/step - loss: 8.0930 - acc: 0.4624 - val_loss: 8.5848 - val_acc: 0.3796\n",
      "\n",
      "Epoch 00006: val_loss improved from 8.81579 to 8.58477, saving model to saved_models/weights.best.VGG16.hdf5\n",
      "Epoch 7/20\n",
      "6680/6680 [==============================] - 1s 222us/step - loss: 7.8366 - acc: 0.4762 - val_loss: 8.3652 - val_acc: 0.3940\n",
      "\n",
      "Epoch 00007: val_loss improved from 8.58477 to 8.36519, saving model to saved_models/weights.best.VGG16.hdf5\n",
      "Epoch 8/20\n",
      "6680/6680 [==============================] - 1s 220us/step - loss: 7.5473 - acc: 0.4957 - val_loss: 8.1757 - val_acc: 0.4024\n",
      "\n",
      "Epoch 00008: val_loss improved from 8.36519 to 8.17570, saving model to saved_models/weights.best.VGG16.hdf5\n",
      "Epoch 9/20\n",
      "6680/6680 [==============================] - 1s 222us/step - loss: 7.3894 - acc: 0.5118 - val_loss: 8.1268 - val_acc: 0.4048\n",
      "\n",
      "Epoch 00009: val_loss improved from 8.17570 to 8.12682, saving model to saved_models/weights.best.VGG16.hdf5\n",
      "Epoch 10/20\n",
      "6680/6680 [==============================] - 1s 224us/step - loss: 7.3263 - acc: 0.5225 - val_loss: 8.0459 - val_acc: 0.4216\n",
      "\n",
      "Epoch 00010: val_loss improved from 8.12682 to 8.04588, saving model to saved_models/weights.best.VGG16.hdf5\n",
      "Epoch 11/20\n",
      "6680/6680 [==============================] - 1s 223us/step - loss: 7.2754 - acc: 0.5292 - val_loss: 8.0858 - val_acc: 0.4132\n",
      "\n",
      "Epoch 00011: val_loss did not improve\n",
      "Epoch 12/20\n",
      "6680/6680 [==============================] - 2s 226us/step - loss: 7.1985 - acc: 0.5325 - val_loss: 7.9993 - val_acc: 0.4156\n",
      "\n",
      "Epoch 00012: val_loss improved from 8.04588 to 7.99928, saving model to saved_models/weights.best.VGG16.hdf5\n",
      "Epoch 13/20\n",
      "6680/6680 [==============================] - 1s 221us/step - loss: 6.9199 - acc: 0.5448 - val_loss: 7.7732 - val_acc: 0.4275\n",
      "\n",
      "Epoch 00013: val_loss improved from 7.99928 to 7.77324, saving model to saved_models/weights.best.VGG16.hdf5\n",
      "Epoch 14/20\n",
      "6680/6680 [==============================] - 1s 221us/step - loss: 6.7614 - acc: 0.5593 - val_loss: 7.6893 - val_acc: 0.4251\n",
      "\n",
      "Epoch 00014: val_loss improved from 7.77324 to 7.68933, saving model to saved_models/weights.best.VGG16.hdf5\n",
      "Epoch 15/20\n",
      "6680/6680 [==============================] - 1s 221us/step - loss: 6.7045 - acc: 0.5698 - val_loss: 7.7640 - val_acc: 0.4335\n",
      "\n",
      "Epoch 00015: val_loss did not improve\n",
      "Epoch 16/20\n",
      "6680/6680 [==============================] - 1s 219us/step - loss: 6.5839 - acc: 0.5731 - val_loss: 7.5457 - val_acc: 0.4335\n",
      "\n",
      "Epoch 00016: val_loss improved from 7.68933 to 7.54572, saving model to saved_models/weights.best.VGG16.hdf5\n",
      "Epoch 17/20\n",
      "6680/6680 [==============================] - 1s 221us/step - loss: 6.1348 - acc: 0.5937 - val_loss: 7.1616 - val_acc: 0.4659\n",
      "\n",
      "Epoch 00017: val_loss improved from 7.54572 to 7.16159, saving model to saved_models/weights.best.VGG16.hdf5\n",
      "Epoch 18/20\n",
      "6680/6680 [==============================] - 1s 220us/step - loss: 5.9792 - acc: 0.6151 - val_loss: 7.0557 - val_acc: 0.4743\n",
      "\n",
      "Epoch 00018: val_loss improved from 7.16159 to 7.05567, saving model to saved_models/weights.best.VGG16.hdf5\n",
      "Epoch 19/20\n",
      "6680/6680 [==============================] - 1s 220us/step - loss: 5.8774 - acc: 0.6207 - val_loss: 6.9565 - val_acc: 0.4838\n",
      "\n",
      "Epoch 00019: val_loss improved from 7.05567 to 6.95646, saving model to saved_models/weights.best.VGG16.hdf5\n",
      "Epoch 20/20\n",
      "6680/6680 [==============================] - 1s 220us/step - loss: 5.7900 - acc: 0.6277 - val_loss: 6.9821 - val_acc: 0.4790\n",
      "\n",
      "Epoch 00020: val_loss did not improve\n"
     ]
    },
    {
     "data": {
      "text/plain": [
       "<keras.callbacks.History at 0x7f4d8a244080>"
      ]
     },
     "execution_count": 72,
     "metadata": {},
     "output_type": "execute_result"
    }
   ],
   "source": [
    "checkpointer = ModelCheckpoint(filepath='saved_models/weights.best.VGG16.hdf5', \n",
    "                               verbose=1, save_best_only=True)\n",
    "\n",
    "VGG16_model.fit(train_VGG16, train_targets, \n",
    "          validation_data=(valid_VGG16, valid_targets),\n",
    "          epochs=20, batch_size=20, callbacks=[checkpointer], verbose=1)"
   ]
  },
  {
   "cell_type": "markdown",
   "metadata": {},
   "source": [
    "### Load the Model with the Best Validation Loss"
   ]
  },
  {
   "cell_type": "code",
   "execution_count": 73,
   "metadata": {
    "scrolled": true
   },
   "outputs": [],
   "source": [
    "VGG16_model.load_weights('saved_models/weights.best.VGG16.hdf5')"
   ]
  },
  {
   "cell_type": "markdown",
   "metadata": {},
   "source": [
    "### Test the Model\n",
    "\n",
    "Now, we can use the CNN to test how well it identifies breed within our test dataset of dog images.  We print the test accuracy below."
   ]
  },
  {
   "cell_type": "code",
   "execution_count": 74,
   "metadata": {
    "scrolled": true
   },
   "outputs": [
    {
     "name": "stdout",
     "output_type": "stream",
     "text": [
      "Test accuracy: 48.3254%\n"
     ]
    }
   ],
   "source": [
    "# get index of predicted dog breed for each image in test set\n",
    "VGG16_predictions = [np.argmax(VGG16_model.predict(np.expand_dims(feature, axis=0))) for feature in test_VGG16]\n",
    "\n",
    "# report test accuracy\n",
    "test_accuracy = 100*np.sum(np.array(VGG16_predictions)==np.argmax(test_targets, axis=1))/len(VGG16_predictions)\n",
    "print('Test accuracy: %.4f%%' % test_accuracy)"
   ]
  },
  {
   "cell_type": "markdown",
   "metadata": {},
   "source": [
    "### Predict Dog Breed with the Model"
   ]
  },
  {
   "cell_type": "code",
   "execution_count": 75,
   "metadata": {
    "scrolled": true
   },
   "outputs": [],
   "source": [
    "from extract_bottleneck_features import *\n",
    "\n",
    "def VGG16_predict_breed(img_path):\n",
    "    # extract bottleneck features\n",
    "    bottleneck_feature = extract_VGG16(path_to_tensor(img_path))\n",
    "    # obtain predicted vector\n",
    "    predicted_vector = VGG16_model.predict(bottleneck_feature)\n",
    "    # return dog breed that is predicted by the model\n",
    "    return dog_names[np.argmax(predicted_vector)]"
   ]
  },
  {
   "cell_type": "markdown",
   "metadata": {},
   "source": [
    "---\n",
    "<a id='step5'></a>\n",
    "## Step 5: Create a CNN to Classify Dog Breeds (using Transfer Learning)\n",
    "\n",
    "You will now use transfer learning to create a CNN that can identify dog breed from images.  Your CNN must attain at least 60% accuracy on the test set.\n",
    "\n",
    "In Step 4, we used transfer learning to create a CNN using VGG-16 bottleneck features.  In this section, you must use the bottleneck features from a different pre-trained model.  To make things easier for you, we have pre-computed the features for all of the networks that are currently available in Keras:\n",
    "- [VGG-19](https://s3-us-west-1.amazonaws.com/udacity-aind/dog-project/DogVGG19Data.npz) bottleneck features\n",
    "- [ResNet-50](https://s3-us-west-1.amazonaws.com/udacity-aind/dog-project/DogResnet50Data.npz) bottleneck features\n",
    "- [Inception](https://s3-us-west-1.amazonaws.com/udacity-aind/dog-project/DogInceptionV3Data.npz) bottleneck features\n",
    "- [Xception](https://s3-us-west-1.amazonaws.com/udacity-aind/dog-project/DogXceptionData.npz) bottleneck features\n",
    "\n",
    "The files are encoded as such:\n",
    "\n",
    "    Dog{network}Data.npz\n",
    "    \n",
    "where `{network}`, in the above filename, can be one of `VGG19`, `Resnet50`, `InceptionV3`, or `Xception`.  Pick one of the above architectures, download the corresponding bottleneck features, and store the downloaded file in the `bottleneck_features/` folder in the repository.\n",
    "\n",
    "### (IMPLEMENTATION) Obtain Bottleneck Features\n",
    "\n",
    "In the code block below, extract the bottleneck features corresponding to the train, test, and validation sets by running the following:\n",
    "\n",
    "    bottleneck_features = np.load('bottleneck_features/Dog{network}Data.npz')\n",
    "    train_{network} = bottleneck_features['train']\n",
    "    valid_{network} = bottleneck_features['valid']\n",
    "    test_{network} = bottleneck_features['test']"
   ]
  },
  {
   "cell_type": "code",
   "execution_count": 111,
   "metadata": {
    "scrolled": true
   },
   "outputs": [],
   "source": [
    "### TODO: Obtain bottleneck features from another pre-trained CNN.\n",
    "from keras.utils import np_utils\n",
    "\n",
    "bottleneck_features = np.load('bottleneck_features/DogInceptionV3Data.npz')\n",
    "train_Inception = bottleneck_features['train']\n",
    "valid_Inception = bottleneck_features['valid']\n",
    "test_Inception = bottleneck_features['test']"
   ]
  },
  {
   "cell_type": "markdown",
   "metadata": {},
   "source": [
    "### (IMPLEMENTATION) Model Architecture\n",
    "\n",
    "Create a CNN to classify dog breed.  At the end of your code cell block, summarize the layers of your model by executing the line:\n",
    "    \n",
    "        <your model's name>.summary()\n",
    "   \n",
    "__Question 5:__ Outline the steps you took to get to your final CNN architecture and your reasoning at each step.  Describe why you think the architecture is suitable for the current problem.\n",
    "\n",
    "__Answer:__ \n",
    "\n"
   ]
  },
  {
   "cell_type": "code",
   "execution_count": 173,
   "metadata": {
    "scrolled": true
   },
   "outputs": [
    {
     "name": "stdout",
     "output_type": "stream",
     "text": [
      "_________________________________________________________________\n",
      "Layer (type)                 Output Shape              Param #   \n",
      "=================================================================\n",
      "dense_114 (Dense)            (None, 5, 5, 256)         524544    \n",
      "_________________________________________________________________\n",
      "dropout_31 (Dropout)         (None, 5, 5, 256)         0         \n",
      "_________________________________________________________________\n",
      "dense_115 (Dense)            (None, 5, 5, 128)         32896     \n",
      "_________________________________________________________________\n",
      "dense_116 (Dense)            (None, 5, 5, 64)          8256      \n",
      "_________________________________________________________________\n",
      "global_average_pooling2d_13  (None, 64)                0         \n",
      "_________________________________________________________________\n",
      "dense_117 (Dense)            (None, 133)               8645      \n",
      "=================================================================\n",
      "Total params: 574,341\n",
      "Trainable params: 574,341\n",
      "Non-trainable params: 0\n",
      "_________________________________________________________________\n",
      "(6680, 5, 5, 2048)\n",
      "(835, 5, 5, 2048)\n",
      "(835, 133)\n"
     ]
    }
   ],
   "source": [
    "### TODO: Define your architecture.\n",
    "t_model = Sequential()\n",
    "t_model.add(Dense(256, activation='relu', input_shape=train_Inception.shape[1:]))\n",
    "t_model.add(Dropout(0.2))\n",
    "t_model.add(Dense(128))\n",
    "t_model.add(Dense(64, activation='relu'))\n",
    "t_model.add(GlobalAveragePooling2D())\n",
    "t_model.add(Dense(133, activation='softmax'))\n",
    "t_model.summary()\n",
    "print(train_Inception.shape)\n",
    "print(valid_Inception.shape)\n",
    "print(valid_targets.shape)"
   ]
  },
  {
   "cell_type": "markdown",
   "metadata": {},
   "source": [
    "### (IMPLEMENTATION) Compile the Model"
   ]
  },
  {
   "cell_type": "code",
   "execution_count": 176,
   "metadata": {
    "scrolled": true
   },
   "outputs": [],
   "source": [
    "### TODO: Compile the model.\n",
    "t_model.compile(loss='categorical_crossentropy', optimizer='rmsprop', metrics=['accuracy'])"
   ]
  },
  {
   "cell_type": "markdown",
   "metadata": {},
   "source": [
    "### (IMPLEMENTATION) Train the Model\n",
    "\n",
    "Train your model in the code cell below.  Use model checkpointing to save the model that attains the best validation loss.  \n",
    "\n",
    "You are welcome to [augment the training data](https://blog.keras.io/building-powerful-image-classification-models-using-very-little-data.html), but this is not a requirement. "
   ]
  },
  {
   "cell_type": "code",
   "execution_count": 180,
   "metadata": {
    "scrolled": true
   },
   "outputs": [
    {
     "name": "stdout",
     "output_type": "stream",
     "text": [
      "Train on 6680 samples, validate on 835 samples\n",
      "Epoch 1/20\n",
      " - 2s - loss: 0.0418 - acc: 0.9877 - val_loss: 0.4661 - val_acc: 0.9042\n",
      "\n",
      "Epoch 00001: val_loss improved from inf to 0.46612, saving model to saved_models/Inception.weights.best.hdf5\n",
      "Epoch 2/20\n",
      " - 1s - loss: 0.0357 - acc: 0.9867 - val_loss: 0.5922 - val_acc: 0.8946\n",
      "\n",
      "Epoch 00002: val_loss did not improve\n",
      "Epoch 3/20\n",
      " - 1s - loss: 0.0434 - acc: 0.9864 - val_loss: 0.6540 - val_acc: 0.8826\n",
      "\n",
      "Epoch 00003: val_loss did not improve\n",
      "Epoch 4/20\n",
      " - 1s - loss: 0.0397 - acc: 0.9873 - val_loss: 0.6720 - val_acc: 0.8790\n",
      "\n",
      "Epoch 00004: val_loss did not improve\n",
      "Epoch 5/20\n",
      " - 1s - loss: 0.0361 - acc: 0.9888 - val_loss: 0.6828 - val_acc: 0.8802\n",
      "\n",
      "Epoch 00005: val_loss did not improve\n",
      "Epoch 6/20\n",
      " - 1s - loss: 0.0318 - acc: 0.9904 - val_loss: 0.5157 - val_acc: 0.9102\n",
      "\n",
      "Epoch 00006: val_loss did not improve\n",
      "Epoch 7/20\n",
      " - 1s - loss: 0.0396 - acc: 0.9880 - val_loss: 0.5417 - val_acc: 0.9018\n",
      "\n",
      "Epoch 00007: val_loss did not improve\n",
      "Epoch 8/20\n",
      " - 1s - loss: 0.0329 - acc: 0.9910 - val_loss: 0.5873 - val_acc: 0.8886\n",
      "\n",
      "Epoch 00008: val_loss did not improve\n",
      "Epoch 9/20\n",
      " - 1s - loss: 0.0395 - acc: 0.9864 - val_loss: 0.6262 - val_acc: 0.9054\n",
      "\n",
      "Epoch 00009: val_loss did not improve\n",
      "Epoch 10/20\n",
      " - 1s - loss: 0.0322 - acc: 0.9898 - val_loss: 0.6842 - val_acc: 0.8946\n",
      "\n",
      "Epoch 00010: val_loss did not improve\n",
      "Epoch 11/20\n",
      " - 1s - loss: 0.0351 - acc: 0.9883 - val_loss: 0.6859 - val_acc: 0.8994\n",
      "\n",
      "Epoch 00011: val_loss did not improve\n",
      "Epoch 12/20\n",
      " - 1s - loss: 0.0322 - acc: 0.9907 - val_loss: 0.7392 - val_acc: 0.8862\n",
      "\n",
      "Epoch 00012: val_loss did not improve\n",
      "Epoch 13/20\n",
      " - 1s - loss: 0.0296 - acc: 0.9915 - val_loss: 0.6712 - val_acc: 0.8874\n",
      "\n",
      "Epoch 00013: val_loss did not improve\n",
      "Epoch 14/20\n",
      " - 1s - loss: 0.0372 - acc: 0.9909 - val_loss: 0.6528 - val_acc: 0.8946\n",
      "\n",
      "Epoch 00014: val_loss did not improve\n",
      "Epoch 15/20\n",
      " - 1s - loss: 0.0209 - acc: 0.9943 - val_loss: 0.7426 - val_acc: 0.8946\n",
      "\n",
      "Epoch 00015: val_loss did not improve\n",
      "Epoch 16/20\n",
      " - 1s - loss: 0.0362 - acc: 0.9907 - val_loss: 0.6679 - val_acc: 0.9090\n",
      "\n",
      "Epoch 00016: val_loss did not improve\n",
      "Epoch 17/20\n",
      " - 1s - loss: 0.0307 - acc: 0.9907 - val_loss: 0.8272 - val_acc: 0.8778\n",
      "\n",
      "Epoch 00017: val_loss did not improve\n",
      "Epoch 18/20\n",
      " - 1s - loss: 0.0339 - acc: 0.9904 - val_loss: 0.6797 - val_acc: 0.8934\n",
      "\n",
      "Epoch 00018: val_loss did not improve\n",
      "Epoch 19/20\n",
      " - 1s - loss: 0.0349 - acc: 0.9912 - val_loss: 0.7013 - val_acc: 0.8958\n",
      "\n",
      "Epoch 00019: val_loss did not improve\n",
      "Epoch 20/20\n",
      " - 1s - loss: 0.0363 - acc: 0.9903 - val_loss: 0.7717 - val_acc: 0.8934\n",
      "\n",
      "Epoch 00020: val_loss did not improve\n"
     ]
    }
   ],
   "source": [
    "### TODO: Train the model.\n",
    "from keras.callbacks import ModelCheckpoint   \n",
    "\n",
    "# train the model\n",
    "checkpointer = ModelCheckpoint(filepath='saved_models/Inception.weights.best.hdf5', verbose=1, \n",
    "                               save_best_only=True)\n",
    "hist = t_model.fit(train_Inception, train_targets, validation_data=(valid_Inception, valid_targets), batch_size=64, epochs=20, callbacks=[checkpointer], \n",
    "          verbose=2, shuffle=True)"
   ]
  },
  {
   "cell_type": "markdown",
   "metadata": {},
   "source": [
    "### (IMPLEMENTATION) Load the Model with the Best Validation Loss"
   ]
  },
  {
   "cell_type": "code",
   "execution_count": 181,
   "metadata": {
    "scrolled": true
   },
   "outputs": [],
   "source": [
    "### TODO: Load the model weights with the best validation loss.\n",
    "t_model.load_weights('saved_models/Inception.weights.best.hdf5')"
   ]
  },
  {
   "cell_type": "markdown",
   "metadata": {},
   "source": [
    "### (IMPLEMENTATION) Test the Model\n",
    "\n",
    "Try out your model on the test dataset of dog images. Ensure that your test accuracy is greater than 60%."
   ]
  },
  {
   "cell_type": "code",
   "execution_count": 182,
   "metadata": {
    "scrolled": false
   },
   "outputs": [
    {
     "name": "stdout",
     "output_type": "stream",
     "text": [
      "Test accuracy: 80.6220%\n"
     ]
    }
   ],
   "source": [
    "### TODO: Calculate classification accuracy on the test dataset.\n",
    "# get index of predicted dog breed for each image in test set\n",
    "Inception_predictions = [np.argmax(t_model.predict(np.expand_dims(feature, axis=0))) for feature in test_Inception]\n",
    "\n",
    "# report test accuracy\n",
    "test_accuracy = 100*np.sum(np.array(Inception_predictions)==np.argmax(test_targets, axis=1))/len(Inception_predictions)\n",
    "print('Test accuracy: %.4f%%' % test_accuracy)"
   ]
  },
  {
   "cell_type": "markdown",
   "metadata": {},
   "source": [
    "### (IMPLEMENTATION) Predict Dog Breed with the Model\n",
    "\n",
    "Write a function that takes an image path as input and returns the dog breed (`Affenpinscher`, `Afghan_hound`, etc) that is predicted by your model.  \n",
    "\n",
    "Similar to the analogous function in Step 5, your function should have three steps:\n",
    "1. Extract the bottleneck features corresponding to the chosen CNN model.\n",
    "2. Supply the bottleneck features as input to the model to return the predicted vector.  Note that the argmax of this prediction vector gives the index of the predicted dog breed.\n",
    "3. Use the `dog_names` array defined in Step 0 of this notebook to return the corresponding breed.\n",
    "\n",
    "The functions to extract the bottleneck features can be found in `extract_bottleneck_features.py`, and they have been imported in an earlier code cell.  To obtain the bottleneck features corresponding to your chosen CNN architecture, you need to use the function\n",
    "\n",
    "    extract_{network}\n",
    "    \n",
    "where `{network}`, in the above filename, should be one of `VGG19`, `Resnet50`, `InceptionV3`, or `Xception`."
   ]
  },
  {
   "cell_type": "code",
   "execution_count": null,
   "metadata": {
    "collapsed": true,
    "scrolled": false
   },
   "outputs": [],
   "source": [
    "### TODO: Write a function that takes a path to an image as input\n",
    "### and returns the dog breed that is predicted by the model."
   ]
  },
  {
   "cell_type": "markdown",
   "metadata": {},
   "source": [
    "---\n",
    "<a id='step6'></a>\n",
    "## Step 6: Write your Algorithm\n",
    "\n",
    "Write an algorithm that accepts a file path to an image and first determines whether the image contains a human, dog, or neither.  Then,\n",
    "- if a __dog__ is detected in the image, return the predicted breed.\n",
    "- if a __human__ is detected in the image, return the resembling dog breed.\n",
    "- if __neither__ is detected in the image, provide output that indicates an error.\n",
    "\n",
    "You are welcome to write your own functions for detecting humans and dogs in images, but feel free to use the `face_detector` and `dog_detector` functions developed above.  You are __required__ to use your CNN from Step 5 to predict dog breed.  \n",
    "\n",
    "Some sample output for our algorithm is provided below, but feel free to design your own user experience!\n",
    "\n",
    "![Sample Human Output](images/sample_human_output.png)\n",
    "\n",
    "\n",
    "### (IMPLEMENTATION) Write your Algorithm"
   ]
  },
  {
   "cell_type": "code",
   "execution_count": null,
   "metadata": {
    "collapsed": true,
    "scrolled": false
   },
   "outputs": [],
   "source": [
    "### TODO: Write your algorithm.\n",
    "### Feel free to use as many code cells as needed."
   ]
  },
  {
   "cell_type": "markdown",
   "metadata": {},
   "source": [
    "---\n",
    "<a id='step7'></a>\n",
    "## Step 7: Test Your Algorithm\n",
    "\n",
    "In this section, you will take your new algorithm for a spin!  What kind of dog does the algorithm think that __you__ look like?  If you have a dog, does it predict your dog's breed accurately?  If you have a cat, does it mistakenly think that your cat is a dog?\n",
    "\n",
    "### (IMPLEMENTATION) Test Your Algorithm on Sample Images!\n",
    "\n",
    "Test your algorithm at least six images on your computer.  Feel free to use any images you like.  Use at least two human and two dog images.  \n",
    "\n",
    "__Question 6:__ Is the output better than you expected :) ?  Or worse :( ?  Provide at least three possible points of improvement for your algorithm.\n",
    "\n",
    "__Answer:__ "
   ]
  },
  {
   "cell_type": "code",
   "execution_count": null,
   "metadata": {
    "collapsed": true,
    "scrolled": false
   },
   "outputs": [],
   "source": [
    "## TODO: Execute your algorithm from Step 6 on\n",
    "## at least 6 images on your computer.\n",
    "## Feel free to use as many code cells as needed."
   ]
  }
 ],
 "metadata": {
  "anaconda-cloud": {},
  "kernelspec": {
   "display_name": "Python 3",
   "language": "python",
   "name": "python3"
  },
  "language_info": {
   "codemirror_mode": {
    "name": "ipython",
    "version": 3
   },
   "file_extension": ".py",
   "mimetype": "text/x-python",
   "name": "python",
   "nbconvert_exporter": "python",
   "pygments_lexer": "ipython3",
   "version": "3.5.2"
  }
 },
 "nbformat": 4,
 "nbformat_minor": 1
}
